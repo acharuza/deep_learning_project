{
 "cells": [
  {
   "cell_type": "code",
   "id": "initial_id",
   "metadata": {
    "collapsed": true,
    "ExecuteTime": {
     "end_time": "2025-03-29T11:23:36.523433Z",
     "start_time": "2025-03-29T11:23:36.519723Z"
    }
   },
   "source": [
    "import os\n",
    "import pandas as pd\n",
    "import numpy as np\n",
    "import matplotlib.pyplot as plt\n",
    "import seaborn as sns\n",
    "import torch\n",
    "import glob\n",
    "import torch.nn.functional as F\n",
    "from sklearn.metrics import confusion_matrix, ConfusionMatrixDisplay\n",
    "from sklearn.manifold import TSNE\n",
    "from alexnet import AlexNet\n",
    "from lenet5 import LeNet5\n",
    "from data_loading import DataLoaderCreator"
   ],
   "outputs": [],
   "execution_count": 10
  },
  {
   "metadata": {
    "ExecuteTime": {
     "end_time": "2025-03-29T11:20:16.950001Z",
     "start_time": "2025-03-29T11:20:16.907622Z"
    }
   },
   "cell_type": "code",
   "source": "device = torch.device(\"cuda\" if torch.cuda.is_available() else \"cpu\")",
   "id": "e96c55bb74504ffe",
   "outputs": [],
   "execution_count": 2
  },
  {
   "metadata": {
    "ExecuteTime": {
     "end_time": "2025-03-29T11:20:17.446506Z",
     "start_time": "2025-03-29T11:20:17.442919Z"
    }
   },
   "cell_type": "code",
   "source": [
    "def load_results(csv_path):\n",
    "    return pd.read_csv(csv_path)"
   ],
   "id": "cb898b67ec5f0184",
   "outputs": [],
   "execution_count": 3
  },
  {
   "metadata": {
    "ExecuteTime": {
     "end_time": "2025-03-29T11:20:17.458332Z",
     "start_time": "2025-03-29T11:20:17.454069Z"
    }
   },
   "cell_type": "code",
   "source": [
    "def load_model(model, model_path, dropout_rate=0, init_type='random'):\n",
    "    if model == 'alexnet':\n",
    "        model = AlexNet(dropout_rate=dropout_rate, init_type=init_type)\n",
    "    elif model == 'lenet5':\n",
    "        model = LeNet5(dropout_rate=dropout_rate, init_type=init_type)\n",
    "    else:\n",
    "        raise ValueError(\"Invalid model name\")\n",
    "    model.load_state_dict(torch.load(model_path, map_location=torch.device('cpu')))  # CPU/GPU\n",
    "    model.eval()\n",
    "    return model"
   ],
   "id": "bbc96a6189a3e9b",
   "outputs": [],
   "execution_count": 4
  },
  {
   "metadata": {
    "ExecuteTime": {
     "end_time": "2025-03-29T11:20:17.469322Z",
     "start_time": "2025-03-29T11:20:17.465163Z"
    }
   },
   "cell_type": "code",
   "source": [
    "def evaluate_model(model, test_loader, device):\n",
    "    model.to(device)\n",
    "    correct = 0\n",
    "    total = 0\n",
    "\n",
    "    with torch.no_grad():\n",
    "        for images, labels in test_loader:\n",
    "            images, labels = images.to(device), labels.to(device)\n",
    "            outputs = model(images)\n",
    "            _, predicted = torch.max(outputs, 1)\n",
    "            correct += (predicted == labels).sum().item()\n",
    "            total += labels.size(0)\n",
    "\n",
    "    accuracy = 100 * correct / total\n",
    "    return accuracy"
   ],
   "id": "2cac90c244ca00af",
   "outputs": [],
   "execution_count": 5
  },
  {
   "metadata": {
    "ExecuteTime": {
     "end_time": "2025-03-29T11:30:26.649650Z",
     "start_time": "2025-03-29T11:28:55.132018Z"
    }
   },
   "cell_type": "code",
   "source": [
    "model_paths = glob.glob(\"saved_models/alexnet_dropout_seed_*.pth\")\n",
    "accuracies = []\n",
    "\n",
    "loader_creator = DataLoaderCreator(seed=123)\n",
    "test_loader = loader_creator.create_data_loader('cinic-10/test', batch_size=128)\n",
    "\n",
    "device = torch.device(\"cuda\" if torch.cuda.is_available() else \"cpu\")\n",
    "\n",
    "for model_path in model_paths:\n",
    "    print(f\"Evaluating {model_path}...\")\n",
    "    model = load_model(\"alexnet\", model_path, dropout_rate=0.2, init_type='random')\n",
    "    accuracy = evaluate_model(model, test_loader, device)\n",
    "    accuracies.append(accuracy)\n",
    "    print(f\"Accuracy: {accuracy:.2f}%\")\n",
    "\n",
    "mean_accuracy = np.mean(accuracies)\n",
    "std_accuracy = np.std(accuracies, ddof=1)\n",
    "\n",
    "print(f\"\\nMean accuracy: {mean_accuracy:.2f}%\")\n",
    "print(f\"Standard Deviation: {std_accuracy:.2f}%\")"
   ],
   "id": "e1bb4834cd2baa54",
   "outputs": [
    {
     "name": "stdout",
     "output_type": "stream",
     "text": [
      "Evaluating saved_models\\alexnet_dropout_seed_123.pth...\n",
      "Accuracy: 61.06%\n",
      "Evaluating saved_models\\alexnet_dropout_seed_33.pth...\n",
      "Accuracy: 61.17%\n",
      "Evaluating saved_models\\alexnet_dropout_seed_40.pth...\n",
      "Accuracy: 59.54%\n",
      "\n",
      "Mean accuracy: 60.59%\n",
      "Standard Deviation: 0.91%\n"
     ]
    }
   ],
   "execution_count": 13
  }
 ],
 "metadata": {
  "kernelspec": {
   "display_name": "Python 3",
   "language": "python",
   "name": "python3"
  },
  "language_info": {
   "codemirror_mode": {
    "name": "ipython",
    "version": 2
   },
   "file_extension": ".py",
   "mimetype": "text/x-python",
   "name": "python",
   "nbconvert_exporter": "python",
   "pygments_lexer": "ipython2",
   "version": "2.7.6"
  }
 },
 "nbformat": 4,
 "nbformat_minor": 5
}
